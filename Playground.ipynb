{
 "cells": [
  {
   "cell_type": "code",
   "execution_count": null,
   "metadata": {},
   "outputs": [],
   "source": [
    "from Instances.QUTE_CNG35_Kerb import instance as QUTE_CNG35_Kerb"
   ]
  },
  {
   "cell_type": "code",
   "execution_count": null,
   "metadata": {},
   "outputs": [],
   "source": [
    "from Instances.QUTE_CNG60_Kerb import instance as QUTE_CNG60_Kerb"
   ]
  },
  {
   "cell_type": "code",
   "execution_count": null,
   "metadata": {},
   "outputs": [],
   "source": [
    "from Instances.QUTE_LPG35_Homologation import instance as QUTE_LPG35_Homologation"
   ]
  },
  {
   "cell_type": "code",
   "execution_count": null,
   "metadata": {},
   "outputs": [],
   "source": [
    "from Instances.R129_Design import instance as R129_Design"
   ]
  },
  {
   "cell_type": "markdown",
   "metadata": {},
   "source": [
    "### Inductive Development Flow\n",
    "\n",
    "Define $ \\zeta = [\\alpha_L, \\beta_L] $ as the domain for the right wheel Kingpin angle (in degrees), where:\n",
    "- $ \\alpha_L $ is the lock angle when steered right\n",
    "- $ \\beta_L $ is the lock angle when steered left\n",
    "\n",
    "#### Case: $ \\theta = 0^\\circ $\n",
    "\n",
    "We know the initial position vectors:\n",
    "$ (\\mathbf{r}_K)_0, (\\mathbf{r}_A)_0, (\\mathbf{r}_B)_0, (\\mathbf{r}_O)_0, (\\mathbf{r}_T)_0, (\\mathbf{r}_W)_0, (\\mathbf{r}_C)_0, (\\mathbf{r}_{ICF})_0, (\\mathbf{r}_{ICS})_0 $\n",
    "\n",
    "Here, $ (\\mathbf{r}_M)_0 $ represents the initial position vector of point M.\n",
    "\n",
    "#### For $ \\theta = 0.1^\\circ $:\n",
    "\n",
    "1. **Rotation about KPA**:\n",
    "   - Find $ (\\mathbf{r}_B), (\\mathbf{r}_O), (\\mathbf{r}_T), (\\mathbf{r}_W) $ as per the rotation about the Kingpin axis (KPA) given by $ (\\mathbf{r}_A)_0 - (\\mathbf{r}_K)_0 $.\n",
    "\n",
    "2. **Virtual Bump/Droop**:\n",
    "   - Find $ (\\mathbf{r}_T), (\\mathbf{r}_W) $ as per a virtual bump/droop, keeping the same Z-coordinate.\n",
    "\n",
    "3. **Road-Steer Angle**:\n",
    "   - Determine the road-steer angle as per $ \\Delta (\\mathbf{r}_{TW}) $.\n",
    "\n",
    "4. **Virtual Bump/Droop for Fixed Ground**:\n",
    "   - Find the virtual bump/droop $ (\\delta z)_{\\theta=0.1^\\circ} $.\n",
    "\n",
    "5. **Update Positions**:\n",
    "   - Update $ (\\mathbf{r}_O) $ after accounting for the virtual bump/droop $ (\\delta z)_{\\theta=0.1^\\circ} $.\n",
    "   - Find $ (\\mathbf{r}_K), (\\mathbf{r}_A) $ based on the rotation about the KPA given by $ (\\mathbf{r}_{ICF})_0 - (\\mathbf{r}_{ICS})_0 $ and the virtual bump/droop $ (\\delta z)_{\\theta=0.1^\\circ} $.\n",
    "   - Update $ (\\mathbf{r}_B) $ considering the forced suspension path from $ \\Delta (\\mathbf{r}_K) $ (or $ \\Delta (\\mathbf{r}_A) $ if the steering arm is connected to point A).\n",
    "\n",
    "6. **Tie-Rod Length Intersection**:\n",
    "   - Find $ (\\mathbf{r}_C) $ based on the intersection with $ (\\mathbf{r}_C)_0 + \\lambda \\mathbf{j} $, where $ \\lambda $ is a scalar.\n",
    "\n",
    "7. **Rack Displacement**:\n",
    "   - Calculate the rack displacement as per $ \\Delta (\\mathbf{r}_C) $.\n",
    "\n",
    "#### For a General $ \\theta = \\theta_0 \\in \\zeta $:\n",
    "\n",
    "Assume that after memoization, we know the position vectors:\n",
    "$ (\\mathbf{r}_K)_{\\theta_0}, (\\mathbf{r}_A)_{\\theta_0}, (\\mathbf{r}_B)_{\\theta_0}, (\\mathbf{r}_O)_{\\theta_0}, (\\mathbf{r}_T)_{\\theta_0}, (\\mathbf{r}_W)_{\\theta_0}, (\\mathbf{r}_C)_{\\theta_0}, (\\mathbf{r}_{ICF})_{\\theta_0}, (\\mathbf{r}_{ICS})_{\\theta_0}, (\\delta z)_{\\theta_0} $\n",
    "\n",
    "Where $ (\\mathbf{r}_M)_{\\theta_0} $ represents the position vector of point M at $ \\theta = \\theta_0 $.\n",
    "\n",
    "For $ \\theta = \\theta_0 \\pm 0.1^\\circ $:\n",
    "\n",
    "1. **Rotation about KPA**:\n",
    "   - Find $ (\\mathbf{r}_B), (\\mathbf{r}_O), (\\mathbf{r}_T), (\\mathbf{r}_W) $ as per the rotation about the KPA given by $ (\\mathbf{r}_A) - (\\mathbf{r}_K) $ at $ \\theta = \\theta_0 $.\n",
    "\n",
    "2. **Virtual Bump/Droop**:\n",
    "   - Find $ (\\mathbf{r}_T) $ keeping the same Z-coordinate as $ (\\mathbf{r}_T)_{\\theta_0} $.\n",
    "\n",
    "3. **Total Road-Steer Angle**:\n",
    "   - Determine the total road-steer angle as per $ \\Delta (\\mathbf{r}_{TW}) = (\\mathbf{r}_{TW})_{\\theta_0 \\pm 0.1^\\circ} - (\\mathbf{r}_{TW})_0 $.\n",
    "\n",
    "4. **Virtual Bump/Droop for Fixed Ground**:\n",
    "   - Find $ (\\delta z)_{\\theta_0 \\pm 0.1^\\circ} - (\\delta z)_{\\theta_0} $.\n",
    "\n",
    "5. **Update Positions**:\n",
    "   - Update $ (\\mathbf{r}_O) $ after accounting for the virtual bump/droop $ (\\delta z)_{\\theta_0 \\pm 0.1^\\circ} - (\\delta z)_{\\theta_0} $.\n",
    "   - Find $ (\\mathbf{r}_K), (\\mathbf{r}_A) $ based on the rotation about the KPA given by $ (\\mathbf{r}_{ICF}) - (\\mathbf{r}_{ICS}) $ at $ \\theta = \\theta_0 $ and the virtual bump/droop $ (\\delta z)_{\\theta_0 \\pm 0.1^\\circ} - (\\delta z)_{\\theta_0} $.\n",
    "   - Update $ (\\mathbf{r}_B) $ considering the forced suspension path from $ \\Delta (\\mathbf{r}_K) = (\\mathbf{r}_K)_{\\theta_0 \\pm 0.1^\\circ} - (\\mathbf{r}_K)_{\\theta_0} $.\n",
    "\n",
    "6. **Tie-Rod Length Intersection**:\n",
    "   - Find $ (\\mathbf{r}_C) $ based on the intersection with $ (\\mathbf{r}_C)_{\\theta_0} + \\lambda \\mathbf{j} $, where $ \\lambda $ is a scalar.\n",
    "\n",
    "7. **Total Rack Displacement**:\n",
    "   - Calculate the total rack displacement as per $ \\Delta (\\mathbf{r}_C) = (\\mathbf{r}_C)_{\\theta_0 \\pm 0.1^\\circ} - (\\mathbf{r}_C)_{\\theta_0} $.\n",
    "\n",
    "### Memoization\n",
    "\n",
    "To facilitate this process, store the variables from $ 0 $ to $ \\alpha_L $ in increments of $ 0.1^\\circ $ and from $ 0 $ to $ \\beta_L $ in decrements of $ 0.1^\\circ $."
   ]
  }
 ],
 "metadata": {
  "kernelspec": {
   "display_name": "Python 3",
   "language": "python",
   "name": "python3"
  },
  "language_info": {
   "codemirror_mode": {
    "name": "ipython",
    "version": 3
   },
   "file_extension": ".py",
   "mimetype": "text/x-python",
   "name": "python",
   "nbconvert_exporter": "python",
   "pygments_lexer": "ipython3",
   "version": "3.12.9"
  }
 },
 "nbformat": 4,
 "nbformat_minor": 2
}
