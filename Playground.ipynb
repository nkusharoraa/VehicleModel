{
 "cells": [
  {
   "cell_type": "code",
   "execution_count": null,
   "metadata": {},
   "outputs": [],
   "source": [
    "import Instances"
   ]
  },
  {
   "cell_type": "code",
   "execution_count": 1,
   "metadata": {},
   "outputs": [
    {
     "name": "stdout",
     "output_type": "stream",
     "text": [
      "(np.float64(135.72349902394654), np.float64(103.21810241164091), np.float64(220.36688853557396), np.float64(83.37151002914608), np.float64(4.0318380721967575), np.float64(2.4135263556621194), np.float64(0.4610770809693334), np.float64(0.6977712538738273), np.float64(64.58683424379154), np.float64(43.69024209262358), np.float64(20.950163975997302), np.float64(18.470848392095178), (np.float64(-1.4417760596779459), np.float64(-0.3609596227106572)))\n"
     ]
    }
   ],
   "source": [
    "from Instances import QUTE_CNG35_Kerb\n",
    "print(QUTE_CNG35_Kerb.dynamicsolve(-45))"
   ]
  },
  {
   "cell_type": "code",
   "execution_count": 2,
   "metadata": {},
   "outputs": [
    {
     "data": {
      "text/plain": [
       "np.float64(48.1227863396587)"
      ]
     },
     "execution_count": 2,
     "metadata": {},
     "output_type": "execute_result"
    }
   ],
   "source": [
    "QUTE_CNG35_Kerb.caster_trail(0)"
   ]
  }
 ],
 "metadata": {
  "kernelspec": {
   "display_name": "Python 3",
   "language": "python",
   "name": "python3"
  },
  "language_info": {
   "codemirror_mode": {
    "name": "ipython",
    "version": 3
   },
   "file_extension": ".py",
   "mimetype": "text/x-python",
   "name": "python",
   "nbconvert_exporter": "python",
   "pygments_lexer": "ipython3",
   "version": "3.12.9"
  }
 },
 "nbformat": 4,
 "nbformat_minor": 2
}
